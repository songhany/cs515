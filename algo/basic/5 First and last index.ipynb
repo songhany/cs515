{
 "cells": [
  {
   "cell_type": "markdown",
   "metadata": {
    "graffitiCellId": "id_pr3r54a"
   },
   "source": [
    "## Problem statement\n",
    "\n",
    "Given a sorted array that may have duplicate values, use *binary search* to find the **first** and **last** indexes of a given value.\n",
    "\n",
    "For example, if you have the array `[0, 1, 2, 2, 3, 3, 3, 4, 5, 6]` and the given value is `3`, the answer will be `[4, 6]` (because the value `3` occurs first at index `4` and last at index `6` in the array).\n",
    "\n",
    "The expected complexity of the problem is $O(log(n))$."
   ]
  },
  {
   "cell_type": "code",
   "execution_count": 43,
   "metadata": {
    "graffitiCellId": "id_stslkm6"
   },
   "outputs": [],
   "source": [
    "def first_and_last_index(arr, number):\n",
    "    \"\"\"\n",
    "    Given a sorted array that may have duplicate values, use binary \n",
    "    search to find the first and last indexes of a given value.\n",
    "\n",
    "    Args:\n",
    "        arr(list): Sorted array (or Python list) that may have duplicate values\n",
    "        number(int): Value to search for in the array\n",
    "    Returns:\n",
    "        a list containing the first and last indexes of the given value\n",
    "    \"\"\"\n",
    "        \n",
    "    # TODO: Write your first_and_last function here\n",
    "    # Note that you may want to write helper functions to find the start \n",
    "    # index and the end index\n",
    "    firstIdx = findFirst(arr, number)\n",
    "    lastIdx = findLast(arr, number)\n",
    "    return [firstIdx, lastIdx]\n",
    "    \n",
    "def findFirst(arr, target):\n",
    "    if len(arr) == 0:\n",
    "        return -1\n",
    "    \n",
    "    left = 0 \n",
    "    right = len(arr) - 1\n",
    "    while left < right - 1:\n",
    "        mid = left + (right - left) // 2\n",
    "        if arr[mid] >= target:\n",
    "            right = mid\n",
    "        else:\n",
    "            left = mid + 1\n",
    "            \n",
    "    if arr[left] == target:\n",
    "        return left\n",
    "    if arr[right] == target:\n",
    "        return right\n",
    "    \n",
    "    return -1\n",
    "    \n",
    "def findLast(arr, target):\n",
    "    if len(arr) == 0:\n",
    "        return -1\n",
    "    \n",
    "    left = 0\n",
    "    right = len(arr) - 1\n",
    "    while left < right - 1:\n",
    "        mid = left + (right - left) // 2\n",
    "        if arr[mid] >= target:\n",
    "            right = mid\n",
    "        else:\n",
    "            left = mid + 1\n",
    "            \n",
    "    if arr[right] == target:\n",
    "        return right\n",
    "    if arr[left] == target:\n",
    "        return left\n",
    "    \n",
    "    return -1\n"
   ]
  },
  {
   "cell_type": "code",
   "execution_count": 119,
   "metadata": {
    "graffitiCellId": "id_rtarz4f"
   },
   "outputs": [],
   "source": [
    "def first_and_last_index(arr, number):\n",
    "    firstIdx = find_start_index(arr, number, 0, len(arr) - 1)\n",
    "    lastIdx = find_end_index(arr, number, 0, len(arr) - 1)\n",
    "    return [firstIdx, lastIdx]\n",
    "\n",
    "def find_start_index(arr, number, startIdx, endIdx):\n",
    "    if startIdx > endIdx:\n",
    "        return -1\n",
    "    \n",
    "    midIdx = startIdx + (endIdx - startIdx) // 2\n",
    "    if arr[midIdx] == number:\n",
    "        current_start_pos = find_start_index(arr, number, startIdx, midIdx - 1)\n",
    "        if current_start_pos != -1:\n",
    "            start_pos = current_start_pos\n",
    "        else:\n",
    "            start_pos = midIdx\n",
    "        return start_pos\n",
    "    \n",
    "    elif arr[midIdx] > number:\n",
    "        return find_start_index(arr, number, startIdx, midIdx - 1)\n",
    "    else:\n",
    "        return find_start_index(arr, number, midIdx + 1, endIdx)\n",
    "        \n",
    "def find_end_index(arr, number, startIdx, endIdx):\n",
    "    if startIdx > endIdx:\n",
    "        return -1\n",
    "    \n",
    "    midIdx = startIdx + (endIdx - startIdx) // 2\n",
    "    if arr[midIdx] == number:\n",
    "        current_end_pos = find_end_index(arr, number, midIdx + 1, endIdx)\n",
    "        if current_end_pos != -1:\n",
    "            end_pos = current_end_pos\n",
    "        else:\n",
    "            end_pos = midIdx\n",
    "        return end_pos\n",
    "    \n",
    "    elif arr[midIdx] > number:\n",
    "        return find_end_index(arr, number, startIdx, midIdx - 1)\n",
    "    else:\n",
    "        return find_end_index(arr, number, midIdx + 1, endIdx)"
   ]
  },
  {
   "cell_type": "markdown",
   "metadata": {
    "graffitiCellId": "id_y3lxp1x"
   },
   "source": [
    "<span class=\"graffiti-highlight graffiti-id_y3lxp1x-id_fkngaks\"><i></i><button>Show Solution</button></span>"
   ]
  },
  {
   "cell_type": "markdown",
   "metadata": {
    "graffitiCellId": "id_ii2o0tq"
   },
   "source": [
    "Below are several different test cases you can use to check your solution."
   ]
  },
  {
   "cell_type": "code",
   "execution_count": 120,
   "metadata": {
    "graffitiCellId": "id_a8bxvyg"
   },
   "outputs": [],
   "source": [
    "def test_function(test_case):\n",
    "    input_list = test_case[0]\n",
    "    number = test_case[1]\n",
    "    solution = test_case[2]\n",
    "    output = first_and_last_index(input_list, number)\n",
    "    if output == solution:\n",
    "        print(\"Pass\")\n",
    "    else:\n",
    "        print(\"Fail\")"
   ]
  },
  {
   "cell_type": "code",
   "execution_count": 121,
   "metadata": {
    "graffitiCellId": "id_20phd4q"
   },
   "outputs": [
    {
     "name": "stdout",
     "output_type": "stream",
     "text": [
      "Pass\n"
     ]
    }
   ],
   "source": [
    "input_list = [1]\n",
    "number = 1\n",
    "solution = [0, 0]\n",
    "test_case_1 = [input_list, number, solution]\n",
    "test_function(test_case_1)"
   ]
  },
  {
   "cell_type": "code",
   "execution_count": 122,
   "metadata": {
    "graffitiCellId": "id_9p3166p"
   },
   "outputs": [
    {
     "name": "stdout",
     "output_type": "stream",
     "text": [
      "Pass\n"
     ]
    }
   ],
   "source": [
    "input_list = [0, 1, 2, 3, 3, 3, 3, 4, 5, 6]\n",
    "number = 3\n",
    "solution = [3, 6]\n",
    "test_case_2 = [input_list, number, solution]\n",
    "test_function(test_case_2)"
   ]
  },
  {
   "cell_type": "code",
   "execution_count": 123,
   "metadata": {
    "graffitiCellId": "id_pcvcepp"
   },
   "outputs": [
    {
     "name": "stdout",
     "output_type": "stream",
     "text": [
      "Pass\n"
     ]
    }
   ],
   "source": [
    "input_list = [0, 1, 2, 3, 4, 5]\n",
    "number = 5\n",
    "solution = [5, 5]\n",
    "test_case_3 = [input_list, number, solution]\n",
    "test_function(test_case_3)"
   ]
  },
  {
   "cell_type": "code",
   "execution_count": 124,
   "metadata": {
    "graffitiCellId": "id_cz075rp"
   },
   "outputs": [
    {
     "name": "stdout",
     "output_type": "stream",
     "text": [
      "Pass\n"
     ]
    }
   ],
   "source": [
    "input_list = [0, 1, 2, 3, 4, 5]\n",
    "number = 6\n",
    "solution = [-1, -1]\n",
    "test_case_4 = [input_list, number, solution]\n",
    "test_function(test_case_4)"
   ]
  },
  {
   "cell_type": "code",
   "execution_count": null,
   "metadata": {
    "graffitiCellId": "id_fjigbc6"
   },
   "outputs": [],
   "source": []
  }
 ],
 "metadata": {
  "graffiti": {
   "firstAuthorId": "dev",
   "id": "id_qwr7xir",
   "language": "EN"
  },
  "kernelspec": {
   "display_name": "Python 3",
   "language": "python",
   "name": "python3"
  },
  "language_info": {
   "codemirror_mode": {
    "name": "ipython",
    "version": 3
   },
   "file_extension": ".py",
   "mimetype": "text/x-python",
   "name": "python",
   "nbconvert_exporter": "python",
   "pygments_lexer": "ipython3",
   "version": "3.6.3"
  }
 },
 "nbformat": 4,
 "nbformat_minor": 2
}
